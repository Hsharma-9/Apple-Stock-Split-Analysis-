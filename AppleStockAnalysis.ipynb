{
 "cells": [
  {
   "cell_type": "code",
   "execution_count": null,
   "id": "67777d61-0ba8-4858-84b0-5412a49e6ccb",
   "metadata": {},
   "outputs": [],
   "source": [
    "import yfinance as yf\n",
    "import datetime\n",
    "import matplotlib.pyplot as plt"
   ]
  },
  {
   "cell_type": "markdown",
   "id": "303679fb-dfda-40e4-9319-55b2578ec317",
   "metadata": {},
   "source": [
    "## Apple Stock Prices and Volume Traded with 7-1 Stock Split "
   ]
  },
  {
   "cell_type": "code",
   "execution_count": null,
   "id": "c0881cbd-8a4b-443e-990e-6e4c299c16c5",
   "metadata": {},
   "outputs": [],
   "source": [
    "start = datetime.datetime(2016,1,1)\n",
    "end = datetime.datetime(2020,8,27)"
   ]
  },
  {
   "cell_type": "code",
   "execution_count": null,
   "id": "86d966b1-3222-4afd-b014-4feaa0970a05",
   "metadata": {},
   "outputs": [],
   "source": [
    "apple1 = yf.download(\"AAPL\", start=start, end=end)"
   ]
  },
  {
   "cell_type": "code",
   "execution_count": null,
   "id": "8d664581-18f8-4dd5-ba1b-26cff83532cc",
   "metadata": {},
   "outputs": [],
   "source": [
    "apple1.to_csv('Apple_7-1_Stock.csv')\n"
   ]
  },
  {
   "cell_type": "code",
   "execution_count": null,
   "id": "f865d44f-3b8f-40d6-b52e-be22f93875a7",
   "metadata": {
    "scrolled": true
   },
   "outputs": [],
   "source": [
    "apple1.head(-10)"
   ]
  },
  {
   "cell_type": "code",
   "execution_count": null,
   "id": "5fe4a05d-134b-4310-842b-1d42fd66d482",
   "metadata": {},
   "outputs": [],
   "source": [
    "apple1.tail(-10)"
   ]
  },
  {
   "cell_type": "markdown",
   "id": "ad15bb5b-d4e0-4b52-a720-6c71809549df",
   "metadata": {},
   "source": [
    "## Market Prices Analysis 7-1 Stock Split"
   ]
  },
  {
   "cell_type": "code",
   "execution_count": null,
   "id": "af355ded-22be-4b75-a2cd-00987517c23a",
   "metadata": {},
   "outputs": [],
   "source": [
    "apple1['Open'].plot(label =  'Apple Open price',figsize = (15,7))\n",
    "apple1['Close'].plot(label = 'Apple Close price')\n",
    "apple1['High'].plot(label = 'Apple High price')\n",
    "apple1['Low'].plot(label = 'Apple Low price')\n",
    "plt.legend()\n",
    "plt.title('Apple Stock Prices 7-1 Split')\n",
    "plt.ylabel('Stock Price')\n",
    "plt.show()"
   ]
  },
  {
   "cell_type": "markdown",
   "id": "a40286f9-7363-4059-8632-524dcddf32c1",
   "metadata": {},
   "source": [
    "## Volume Traded Analysis 7-1 Stock Split"
   ]
  },
  {
   "cell_type": "code",
   "execution_count": null,
   "id": "d87adbe1-935a-443a-8c59-2ca8aeae30c5",
   "metadata": {},
   "outputs": [],
   "source": [
    "apple1['Volume'].plot(figsize = (17,5))\n",
    "plt.title('Volume Traded by Apple with 7-1 Stock Split')"
   ]
  },
  {
   "cell_type": "code",
   "execution_count": null,
   "id": "aebe1bf2-4d6e-4e0c-a37f-533b27264cdf",
   "metadata": {},
   "outputs": [],
   "source": [
    "from mplfinance.original_flavor import candlestick_ohlc"
   ]
  },
  {
   "cell_type": "markdown",
   "id": "7c42e433-af57-47a0-82cb-b0d3b2d7be5b",
   "metadata": {},
   "source": [
    "## Candle Stick Graph 7-1 Split"
   ]
  },
  {
   "cell_type": "code",
   "execution_count": null,
   "id": "9c469cab-6130-4be0-86f5-a398a0f11d4c",
   "metadata": {},
   "outputs": [],
   "source": [
    "from matplotlib.dates import DateFormatter, date2num, WeekdayLocator, DayLocator, MONDAY\n",
    "apple1_reset = apple1.loc['2016-01': '2016-01'].reset_index()\n",
    "apple1_reset['date_ax'] = apple1_reset['Date'].apply(lambda date: date2num(date))\n",
    "apple1_values = [tuple(vals) for vals in apple1_reset[['date_ax', 'Open', 'High', 'Low', 'Close']].values] \n",
    "\n",
    "mondays = WeekdayLocator(MONDAY)\n",
    "alldays = DayLocator()\n",
    "weekFormatter = DateFormatter('%b %d')\n",
    "dayFormatter = DateFormatter('%d')\n",
    "\n",
    "\n",
    "fig, ax = plt.subplots()\n",
    "candlestick_ohlc(ax, apple1_values, width=0.6, colorup='g')\n",
    "plt.show()"
   ]
  },
  {
   "cell_type": "markdown",
   "id": "71213b5b-3e4b-4e63-a95d-1fc364ad139d",
   "metadata": {},
   "source": [
    "## Overlaying Stock Price and Volume Traded during 7-1 Stock Split"
   ]
  },
  {
   "cell_type": "code",
   "execution_count": null,
   "id": "9714eada-c975-4c1a-92ab-9deb0df31ece",
   "metadata": {},
   "outputs": [],
   "source": [
    "import pandas as pd\n",
    "import matplotlib.pyplot as plt\n",
    "\n",
    "# Read the CSV file into a DataFrame\n",
    "apple = pd.read_csv(\"Apple_7-1_Stock.csv\")\n",
    "\n",
    "# Convert dates to datetime objects\n",
    "apple['Date'] = pd.to_datetime(apple['Date'])\n",
    "\n",
    "# Define start and end dates\n",
    "start_date = pd.to_datetime('2016-01-01')\n",
    "end_date = pd.to_datetime('2016-03-01')\n",
    "\n",
    "# Filter data within the specified date range\n",
    "mask = (apple['Date'] >= start_date) & (apple['Date'] <= end_date)\n",
    "apple_filtered = apple.loc[mask]\n",
    "\n",
    "# Set the index of the DataFrame to the 'Date' column\n",
    "apple_filtered.set_index('Date', inplace=True)\n",
    "\n",
    "# Create subplots\n",
    "fig, (top_plt, bottom_plt) = plt.subplots(2, 1, figsize=(12, 8))\n",
    "\n",
    "# Plot stock prices\n",
    "top_plt.plot(apple_filtered.index, apple_filtered[\"Close\"])\n",
    "top_plt.set_title('Historical stock prices of Apple Inc 7-1 Split \\n01-01-2016 to 03-01-2016')\n",
    "\n",
    "# Plot trading volume\n",
    "bottom_plt.bar(apple_filtered.index, apple_filtered['Volume'])\n",
    "bottom_plt.set_title('\\nApple Inc. Trading Volume')\n",
    "\n",
    "# Adjust layout\n",
    "plt.tight_layout()\n",
    "plt.show()\n"
   ]
  },
  {
   "cell_type": "markdown",
   "id": "0301b9cf-8705-4470-987d-9258bab6eb68",
   "metadata": {},
   "source": [
    "## Apple Stock Prices and Volume with 4-1 Stock Split"
   ]
  },
  {
   "cell_type": "code",
   "execution_count": null,
   "id": "c6c4eff3-b14d-44a5-9182-3b1d3ec44458",
   "metadata": {},
   "outputs": [],
   "source": [
    "import datetime\n",
    "start = datetime.datetime(2020,8,28)\n",
    "end = datetime.datetime(2024,4,10)"
   ]
  },
  {
   "cell_type": "code",
   "execution_count": null,
   "id": "0bc0147e-8284-469a-a8ea-e7fddadfc9f0",
   "metadata": {},
   "outputs": [],
   "source": [
    "apple2 = yf.download(\"AAPL\", start=start, end=end)"
   ]
  },
  {
   "cell_type": "code",
   "execution_count": null,
   "id": "21e199cc-4790-4031-bbf4-d7d6f4808406",
   "metadata": {},
   "outputs": [],
   "source": [
    "apple2.to_csv('Apple_4-1_Stock.csv')\n"
   ]
  },
  {
   "cell_type": "code",
   "execution_count": null,
   "id": "251ef427-6fcf-4a29-bc73-77a7703af469",
   "metadata": {},
   "outputs": [],
   "source": [
    "apple2.head()"
   ]
  },
  {
   "cell_type": "markdown",
   "id": "b9912390-64f2-438b-9354-74fae7aceba9",
   "metadata": {},
   "source": [
    "## Market Prices Analysis 4-1 Split"
   ]
  },
  {
   "cell_type": "code",
   "execution_count": null,
   "id": "2fc3cccc-0383-4580-836d-bfc0facc25d7",
   "metadata": {},
   "outputs": [],
   "source": [
    "apple2['Open'].plot(label =  'Apple Open price',figsize = (15,7))\n",
    "apple2['Close'].plot(label = 'Apple Close price')\n",
    "apple2['High'].plot(label = 'Apple High price')\n",
    "apple2['Low'].plot(label = 'Apple Low price')\n",
    "plt.legend()\n",
    "plt.title('Apple Stock Prices 4-1 Split')\n",
    "plt.ylabel('Stock Price')\n",
    "plt.show()"
   ]
  },
  {
   "cell_type": "markdown",
   "id": "8be400a3-3411-4f8c-b94d-727c4025086e",
   "metadata": {},
   "source": [
    "## Volume Traded Analysis 4-1 Split"
   ]
  },
  {
   "cell_type": "code",
   "execution_count": null,
   "id": "14ba558f-fbcc-48d7-a321-919fa115f1f9",
   "metadata": {},
   "outputs": [],
   "source": [
    "apple2['Volume'].plot(figsize = (17,5))\n",
    "plt.title('Volume Traded by Apple with 4-1 Stock Split')"
   ]
  },
  {
   "cell_type": "markdown",
   "id": "5d57c832-dab1-4ce4-8979-a29a5d392149",
   "metadata": {},
   "source": [
    "## Candle Stick Graph 4-1 Split"
   ]
  },
  {
   "cell_type": "code",
   "execution_count": null,
   "id": "7b9a520f-bcea-4f7c-add9-5eaff3b21670",
   "metadata": {},
   "outputs": [],
   "source": [
    "from mplfinance.original_flavor import candlestick_ohlc"
   ]
  },
  {
   "cell_type": "code",
   "execution_count": null,
   "id": "c17fb537-ebdf-4e5a-89bd-ef516abdda33",
   "metadata": {},
   "outputs": [],
   "source": [
    "from matplotlib.dates import DateFormatter, date2num, WeekdayLocator, DayLocator, MONDAY\n",
    "apple2_reset = apple2.loc['2021-01': '2021-1'].reset_index()\n",
    "apple2_reset['date_ax'] = apple2_reset['Date'].apply(lambda date: date2num(date))\n",
    "apple2_values = [tuple(vals) for vals in apple2_reset[['date_ax', 'Open', 'High', 'Low', 'Close']].values] \n",
    "\n",
    "mondays = WeekdayLocator(MONDAY)\n",
    "alldays = DayLocator()\n",
    "weekFormatter = DateFormatter('%b %d')\n",
    "dayFormatter = DateFormatter('%d')\n",
    "\n",
    "\n",
    "fig, ax = plt.subplots()\n",
    "candlestick_ohlc(ax, apple2_values, width=0.6, colorup='g')\n",
    "plt.show()"
   ]
  },
  {
   "cell_type": "markdown",
   "id": "c831450d-cf17-4888-88ee-d82cc1511895",
   "metadata": {},
   "source": [
    "## Overlaying Stock Price and Volume Traded during 4-1 Stock Split"
   ]
  },
  {
   "cell_type": "code",
   "execution_count": null,
   "id": "8b4189f5-3a2e-42b8-9cfd-6aea390491b8",
   "metadata": {},
   "outputs": [],
   "source": [
    "import pandas as pd\n",
    "import matplotlib.pyplot as plt\n",
    "\n",
    "# Read the CSV file into a DataFrame\n",
    "apple = pd.read_csv(\"Apple_4-1_Stock.csv\")\n",
    "\n",
    "# Convert dates to datetime objects\n",
    "apple['Date'] = pd.to_datetime(apple['Date'])\n",
    "\n",
    "# Define start and end dates\n",
    "start_date = pd.to_datetime('2020-09-01')\n",
    "end_date = pd.to_datetime('2020-11-01')\n",
    "\n",
    "# Filter data within the specified date range\n",
    "mask = (apple['Date'] >= start_date) & (apple['Date'] <= end_date)\n",
    "apple_filtered = apple.loc[mask]\n",
    "\n",
    "# Set the index of the DataFrame to the 'Date' column\n",
    "apple_filtered.set_index('Date', inplace=True)\n",
    "\n",
    "# Create subplots\n",
    "fig, (top_plt, bottom_plt) = plt.subplots(2, 1, figsize=(12, 8))\n",
    "\n",
    "# Plot stock prices\n",
    "top_plt.plot(apple_filtered.index, apple_filtered[\"Close\"])\n",
    "top_plt.set_title('Historical stock prices of Apple Inc 4-1 Split \\n09-01-2020 to 11-01-2020')\n",
    "\n",
    "# Plot trading volume\n",
    "bottom_plt.bar(apple_filtered.index, apple_filtered['Volume'])\n",
    "bottom_plt.set_title('\\nApple Inc. Trading Volume')\n",
    "\n",
    "# Adjust layout\n",
    "plt.tight_layout()\n",
    "plt.show()\n"
   ]
  }
 ],
 "metadata": {
  "kernelspec": {
   "display_name": "Python 3 (ipykernel)",
   "language": "python",
   "name": "python3"
  },
  "language_info": {
   "codemirror_mode": {
    "name": "ipython",
    "version": 3
   },
   "file_extension": ".py",
   "mimetype": "text/x-python",
   "name": "python",
   "nbconvert_exporter": "python",
   "pygments_lexer": "ipython3",
   "version": "3.11.5"
  }
 },
 "nbformat": 4,
 "nbformat_minor": 5
}
